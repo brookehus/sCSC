{
 "cells": [
  {
   "cell_type": "markdown",
   "metadata": {},
   "source": [
    "Execute this code by loading a .npy square adjacency matrix. Make sure you have the sCSC.py file in the same directory."
   ]
  },
  {
   "cell_type": "code",
   "execution_count": null,
   "metadata": {},
   "outputs": [],
   "source": [
    "import numpy as np\n",
    "import matplotlib.pyplot as plt\n",
    "%matplotlib inline\n",
    "\n",
    "# The following was written using SciPy Version 0.19.1\n",
    "import scipy.linalg\n",
    "from scipy.cluster.hierarchy import average, linkage, fcluster\n",
    "from scipy.spatial.distance import pdist"
   ]
  },
  {
   "cell_type": "code",
   "execution_count": null,
   "metadata": {},
   "outputs": [],
   "source": [
    "from sCSC import *"
   ]
  },
  {
   "cell_type": "code",
   "execution_count": null,
   "metadata": {},
   "outputs": [],
   "source": [
    "# Load adjacency matrix\n",
    "adjacency_matrix = np.load('../data/protein_g_adjmat.npy')\n",
    "assert len(adjacency_matrix.shape) == 2\n",
    "size = adjacency_matrix.shape[0]\n",
    "assert size == adjacency_matrix.shape[1]\n",
    "print('Adjacency matrix is {} x {}.'.format(size,size))\n",
    "\n",
    "# Select number of eigenvectors to include in dendrogram analysis\n",
    "numeigvecs = 7"
   ]
  },
  {
   "cell_type": "code",
   "execution_count": null,
   "metadata": {},
   "outputs": [],
   "source": [
    "# Obtain eigenvectors for clustering and graph Laplacian\n",
    "evec, L = get_eigenvectors_for_dendrogram(adjacency_matrix, numeigvecs)\n",
    "\n",
    "# Get binary codes for each orthogonal process\n",
    "binary = get_binary_codes(evec, numeigvecs)\n",
    "\n",
    "# Initialize dendrogram matrices\n",
    "groupdist, plotcoordsx, plotcoordsy, index_dict = initialize_dendrogram_matrices(numeigvecs)\n",
    "\n",
    "# Loop through eigenvectors, from largest to last one included in analysis\n",
    "for split in np.arange(numeigvecs):\n",
    "    # Output current dendrogram level\n",
    "    print(\"Split %i of %i\" % (split+1, numeigvecs))\n",
    "    \n",
    "    # Initialize level of dendrogram\n",
    "    row = 0\n",
    "    \n",
    "    # Loop through binary codes\n",
    "    for combos in np.arange(0, 2**(split+1), 2):\n",
    "        g1label, g2label, Z1count, Z2count, Z1, Z2, index_dict = get_subgroup_similarity(\n",
    "                                                evec, L, binary, combos, split, index_dict)\n",
    "        \n",
    "        # Record dissimilarity metric for group 1\n",
    "        groupdist[row, split] = Z1\n",
    "    \n",
    "        # Record dissimilarity metric for group 2\n",
    "        groupdist[row+1, split] = Z2\n",
    "        \n",
    "        # Plot this level of the dendrogram\n",
    "        plotcoordsx, plotcoordsy = plot_next_dendrogram_split(\n",
    "                                   plotcoordsx, plotcoordsy, row, split, adjacency_matrix,\n",
    "                                   g1label, g2label, Z1count, Z2count, Z1, Z2)\n",
    "    \n",
    "        # Advance dendrogram level counter\n",
    "        row = row + 2\n",
    "\n",
    "# Optionally add plot specifications\n",
    "plt.xticks(fontsize=12)\n",
    "plt.yticks(fontsize=12)\n",
    "plt.tight_layout()\n",
    "\n",
    "# Optionally save figure\n",
    "#plt.savefig('dendrogram.pdf')\n",
    "\n",
    "# Optionally export sCSC Dendrogram distance matrix\n",
    "# np.save('groupdist.npy', groupdist)\n",
    "\n",
    "# Optionally save dictionary of member indices\n",
    "# import pickle\n",
    "# with open('index_dict.pkl', 'wb') as f:\n",
    "#     pickle.dump(index_dict, f)"
   ]
  },
  {
   "cell_type": "code",
   "execution_count": null,
   "metadata": {},
   "outputs": [],
   "source": []
  }
 ],
 "metadata": {
  "anaconda-cloud": {},
  "kernelspec": {
   "display_name": "Python [default]",
   "language": "python",
   "name": "python3"
  },
  "language_info": {
   "codemirror_mode": {
    "name": "ipython",
    "version": 3
   },
   "file_extension": ".py",
   "mimetype": "text/x-python",
   "name": "python",
   "nbconvert_exporter": "python",
   "pygments_lexer": "ipython3",
   "version": "3.6.7"
  }
 },
 "nbformat": 4,
 "nbformat_minor": 1
}
