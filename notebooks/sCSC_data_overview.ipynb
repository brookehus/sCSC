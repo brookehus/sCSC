{
 "cells": [
  {
   "cell_type": "code",
   "execution_count": null,
   "metadata": {},
   "outputs": [],
   "source": [
    "import numpy as np\n",
    "import matplotlib.pyplot as plt\n",
    "%matplotlib inline"
   ]
  },
  {
   "cell_type": "code",
   "execution_count": null,
   "metadata": {},
   "outputs": [],
   "source": [
    "quad_gyre_data = np.load('../data/quad_gyre_trajectories.npy')"
   ]
  },
  {
   "cell_type": "code",
   "execution_count": null,
   "metadata": {},
   "outputs": [],
   "source": [
    "dimensions, trajectories, time_points = quad_gyre_data.shape"
   ]
  },
  {
   "cell_type": "code",
   "execution_count": null,
   "metadata": {},
   "outputs": [],
   "source": [
    "print(\"The quadruple gyre dataset has {} dimensions, {} trajectories, and {} time points.\".format(\n",
    "        dimensions, trajectories, time_points))"
   ]
  },
  {
   "cell_type": "code",
   "execution_count": null,
   "metadata": {},
   "outputs": [],
   "source": [
    "# Plot the first five trajetories in the dataset, each with its own color.\n",
    "\n",
    "plt.subplots(figsize=(4,4))\n",
    "\n",
    "for t in range(5):\n",
    "    plt.scatter(quad_gyre_data[0][t], quad_gyre_data[1][t], s=15)\n",
    "plt.xlim([0,2])\n",
    "plt.ylim([-1,1])\n",
    "\n",
    "plt.show()"
   ]
  },
  {
   "cell_type": "code",
   "execution_count": null,
   "metadata": {},
   "outputs": [],
   "source": [
    "bickley_jet_data = np.load('../data/bickley_jet_trajectories.npy')"
   ]
  },
  {
   "cell_type": "code",
   "execution_count": null,
   "metadata": {},
   "outputs": [],
   "source": [
    "bj_dimensions, bj_trajectories, bj_time_points = bickley_jet_data.shape"
   ]
  },
  {
   "cell_type": "code",
   "execution_count": null,
   "metadata": {},
   "outputs": [],
   "source": [
    "print(\"The Bickley jet dataset has {} dimensions, {} trajectories, and {} time points.\".format(\n",
    "        bj_dimensions, bj_trajectories, bj_time_points))"
   ]
  },
  {
   "cell_type": "code",
   "execution_count": null,
   "metadata": {},
   "outputs": [],
   "source": [
    "# Plot the first five trajetories in the dataset, each with its own color.\n",
    "\n",
    "plt.subplots(figsize=(6,4))\n",
    "\n",
    "for t in range(5):\n",
    "    plt.scatter(bickley_jet_data[0][t], bickley_jet_data[1][t], s=15)\n",
    "plt.xlim([0,2e7])\n",
    "plt.ylim([-4e6,4e6])\n",
    "\n",
    "plt.show()"
   ]
  },
  {
   "cell_type": "code",
   "execution_count": null,
   "metadata": {},
   "outputs": [],
   "source": [
    "vortex_data = np.load('../data/vortex_trajectories.npy')"
   ]
  },
  {
   "cell_type": "code",
   "execution_count": null,
   "metadata": {},
   "outputs": [],
   "source": [
    "v_dimensions, v_trajectories, v_time_points = vortex_data.shape"
   ]
  },
  {
   "cell_type": "code",
   "execution_count": null,
   "metadata": {},
   "outputs": [],
   "source": [
    "print(\"The vortex dataset has {} dimensions, {} trajectories, and {} time points.\".format(\n",
    "        v_dimensions, v_trajectories, v_time_points))"
   ]
  },
  {
   "cell_type": "code",
   "execution_count": null,
   "metadata": {},
   "outputs": [],
   "source": [
    "# Plot the first fifty trajetories in the dataset, each with its own color.\n",
    "\n",
    "plt.subplots(figsize=(6,4))\n",
    "\n",
    "for t in range(50):\n",
    "    plt.scatter(vortex_data[0][t], vortex_data[1][t], s=15)\n",
    "plt.xlim([-0.27,0])\n",
    "plt.ylim([0,0.16])\n",
    "\n",
    "plt.show()"
   ]
  },
  {
   "cell_type": "code",
   "execution_count": null,
   "metadata": {},
   "outputs": [],
   "source": [
    "# Note that trajectory 416 of the vortex data has nans\n",
    "\n",
    "for i, traj in enumerate(vortex_data[0]):\n",
    "    if np.any(np.isnan(traj)):\n",
    "        print(i)"
   ]
  },
  {
   "cell_type": "code",
   "execution_count": null,
   "metadata": {},
   "outputs": [],
   "source": []
  }
 ],
 "metadata": {
  "kernelspec": {
   "display_name": "Python [default]",
   "language": "python",
   "name": "python3"
  },
  "language_info": {
   "codemirror_mode": {
    "name": "ipython",
    "version": 3
   },
   "file_extension": ".py",
   "mimetype": "text/x-python",
   "name": "python",
   "nbconvert_exporter": "python",
   "pygments_lexer": "ipython3",
   "version": "3.6.7"
  }
 },
 "nbformat": 4,
 "nbformat_minor": 2
}
